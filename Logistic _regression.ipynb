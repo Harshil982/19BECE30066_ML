{
  "nbformat": 4,
  "nbformat_minor": 0,
  "metadata": {
    "colab": {
      "name": "Prac3.ipynb",
      "provenance": [],
      "collapsed_sections": [],
      "include_colab_link": true
    },
    "kernelspec": {
      "name": "python3",
      "display_name": "Python 3"
    },
    "language_info": {
      "name": "python"
    }
  },
  "cells": [
    {
      "cell_type": "markdown",
      "metadata": {
        "id": "view-in-github",
        "colab_type": "text"
      },
      "source": [
        "<a href=\"https://colab.research.google.com/github/Harshil982/19BECE30066_ML/blob/master/Logistic%20_regression.ipynb\" target=\"_parent\"><img src=\"https://colab.research.google.com/assets/colab-badge.svg\" alt=\"Open In Colab\"/></a>"
      ]
    },
    {
      "cell_type": "markdown",
      "source": [
        "Name: Rajput Harshilsinh Babusinh\n",
        "\n",
        "Enrollment No.: 19BECE30066\n",
        "\n",
        "Aim: Implement Logistic Regression in R or Python."
      ],
      "metadata": {
        "id": "GoKwc8RqS3zX"
      }
    },
    {
      "cell_type": "code",
      "execution_count": null,
      "metadata": {
        "id": "WjpUNK15SnS7"
      },
      "outputs": [],
      "source": [
        "import matplotlib.pyplot as plt\n",
        "import numpy as np\n",
        "from sklearn.linear_model import LogisticRegression\n",
        "from sklearn.metrics import classification_report , confusion_matrix , accuracy_score\n",
        "import seaborn as sns"
      ]
    },
    {
      "cell_type": "code",
      "source": [
        "x= np.arange(10).reshape(-1,1)\n",
        "y= np.array([0,0,0,0,1,1,1,1,1,1])"
      ],
      "metadata": {
        "id": "7YLXg63jb7B2"
      },
      "execution_count": null,
      "outputs": []
    },
    {
      "cell_type": "code",
      "source": [
        "print(x)"
      ],
      "metadata": {
        "colab": {
          "base_uri": "https://localhost:8080/"
        },
        "id": "BFUg-_KWc3HH",
        "outputId": "e55c0949-c18a-4031-c620-d8a4e04545b9"
      },
      "execution_count": null,
      "outputs": [
        {
          "output_type": "stream",
          "name": "stdout",
          "text": [
            "[[0]\n",
            " [1]\n",
            " [2]\n",
            " [3]\n",
            " [4]\n",
            " [5]\n",
            " [6]\n",
            " [7]\n",
            " [8]\n",
            " [9]]\n"
          ]
        }
      ]
    },
    {
      "cell_type": "code",
      "source": [
        "print(y)"
      ],
      "metadata": {
        "colab": {
          "base_uri": "https://localhost:8080/"
        },
        "id": "t123etCAdCsX",
        "outputId": "c194b166-68e0-4bc8-adda-f7655a1a8fda"
      },
      "execution_count": null,
      "outputs": [
        {
          "output_type": "stream",
          "name": "stdout",
          "text": [
            "[0 0 0 0 1 1 1 1 1 1]\n"
          ]
        }
      ]
    },
    {
      "cell_type": "code",
      "source": [
        "model = LogisticRegression(solver='liblinear',C=10.0,random_state=0).fit(x,y)\n",
        "print('classes:',model.classes_)\n",
        "print('intercept:',model.intercept_)\n",
        "print('coefficient:',model.coef_)"
      ],
      "metadata": {
        "colab": {
          "base_uri": "https://localhost:8080/"
        },
        "id": "0borzozGdQn9",
        "outputId": "af2c57f0-b8c6-4340-c0e1-9c8b34789161"
      },
      "execution_count": null,
      "outputs": [
        {
          "output_type": "stream",
          "name": "stdout",
          "text": [
            "classes: [0 1]\n",
            "intercept: [-3.51335372]\n",
            "coefficient: [[1.12066084]]\n"
          ]
        }
      ]
    },
    {
      "cell_type": "code",
      "source": [
        "p_predi=model.predict_proba(x)\n",
        "y_pred=model.predict(x)\n",
        "score=model.score(x,y)\n",
        "conf_mat=confusion_matrix(y, model.predict(x))\n",
        "report = classification_report(y, y_pred)\n",
        "print('p_predi:', p_predi, sep='\\n', end='\\n\\n')\n",
        "print('y_pred:', y_pred, end='\\n\\n')\n",
        "print('score_:', score, end='\\n\\n')\n",
        "print('conf_mat:', conf_mat, sep='\\n', end='\\n\\n')\n",
        "print('report:', report, sep='\\n')"
      ],
      "metadata": {
        "colab": {
          "base_uri": "https://localhost:8080/"
        },
        "id": "Jfyq4oNOfY-L",
        "outputId": "d55aed11-304d-4642-9bb9-10f22e3cacf4"
      },
      "execution_count": null,
      "outputs": [
        {
          "output_type": "stream",
          "name": "stdout",
          "text": [
            "p_predi:\n",
            "[[0.97106534 0.02893466]\n",
            " [0.9162684  0.0837316 ]\n",
            " [0.7810904  0.2189096 ]\n",
            " [0.53777071 0.46222929]\n",
            " [0.27502212 0.72497788]\n",
            " [0.11007743 0.88992257]\n",
            " [0.03876835 0.96123165]\n",
            " [0.01298011 0.98701989]\n",
            " [0.0042697  0.9957303 ]\n",
            " [0.00139621 0.99860379]]\n",
            "\n",
            "y_pred: [0 0 0 0 1 1 1 1 1 1]\n",
            "\n",
            "score_: 1.0\n",
            "\n",
            "conf_mat:\n",
            "[[4 0]\n",
            " [0 6]]\n",
            "\n",
            "report:\n",
            "              precision    recall  f1-score   support\n",
            "\n",
            "           0       1.00      1.00      1.00         4\n",
            "           1       1.00      1.00      1.00         6\n",
            "\n",
            "    accuracy                           1.00        10\n",
            "   macro avg       1.00      1.00      1.00        10\n",
            "weighted avg       1.00      1.00      1.00        10\n",
            "\n"
          ]
        }
      ]
    },
    {
      "cell_type": "code",
      "source": [
        "plt.scatter(x, y, s=15)\n",
        "plt.plot(x, y_pred, color='r')\n",
        "plt.xlabel(\"x\")\n",
        "plt.ylabel(\"y\")\n",
        "plt.show()"
      ],
      "metadata": {
        "colab": {
          "base_uri": "https://localhost:8080/",
          "height": 279
        },
        "id": "UV7CuqTDRN0k",
        "outputId": "2c34cacb-c378-4a6a-9709-dc975427a889"
      },
      "execution_count": null,
      "outputs": [
        {
          "output_type": "display_data",
          "data": {
            "text/plain": [
              "<Figure size 432x288 with 1 Axes>"
            ],
            "image/png": "[encoded data removed]"
          },
          "metadata": {
            "needs_background": "light"
          }
        }
      ]
    }
  ]
}